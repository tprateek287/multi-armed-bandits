{
 "cells": [
  {
   "cell_type": "markdown",
   "metadata": {},
   "source": [
    "##### Multi-armed Bandits"
   ]
  },
  {
   "cell_type": "markdown",
   "metadata": {},
   "source": [
    "After letting this algorithm loose on the visitors to a site for a long time, you’ll see that it works by oscillating between (A) exploiting the best option that it currently knows about and (B) exploring at random among all of the options available to it. In fact, you know from the definition of the algorithm that:\n",
    "\n",
    "    - With probability 1 – epsilon, the epsilon-Greedy algorithm exploits the best known option.\n",
    "    \n",
    "    - With probability epsilon / 2, the epsilon-Greedy algorithm explores the best known option.\n",
    "    \n",
    "    - With probability epsilon / 2, the epsilon-Greedy algorithm explores the worst known option.\n",
    "    \n",
    "A reward is simply a measure of success: it might tell us whether a customer clicked on an ad or signed up as a user. What matters is simply that (A) a reward is something quantitative that we can keep of track of mathematically and that (B) larger amounts of reward are better than smaller amounts.\n",
    "\n",
    "    - We’re facing a complicated slot machine, called a bandit, that has a set of N arms that we can pull on.\n",
    "    \n",
    "    - When pulled, any given arm will output a reward. But these rewards aren’t reliable, which is why we’re gambling: Arm 1 might give us 1 unit of reward only 1% of the time, while Arm 2 might give us 1 unit of reward only 3% of the time. Any specific pull of any specific arm is risky.\n",
    "    \n",
    "    - Not only is each pull of an arm risky, we also don’t start off knowing what the reward rates are for any of the arms. We have to figure this out experimentally by actually pulling on the unknown arms.\n",
    "    \n",
    "So far the problem we’ve described in just a problem in statistics: you need to cope with risk by figuring out which arm has the highest average reward. You can calculate the average reward by pulling on each arm a lot of times and computing the mean of the rewards you get back. But a real bandit problem is more complicated and also more realistic.\n",
    "\n",
    "What makes a bandit problem special is that we only receive a small amount of the information about the rewards from each arm. Specifically:\n",
    "\n",
    "    - We only find out about the reward that was given out by the arm we actually pulled. Whichever arm we pull, we miss out on information about the other arms that we didn’t pull. \n",
    "    \n",
    "    - In fact, the situation is worse than that. Not only do we get only partial feedback about the wisdom of our past decisions, we’re literally falling behind every time we don’t make a good decision: Every time we experiment with an arm that isn’t the best arm, we lose reward because we could, at least in principle, have pulled on a better arm.\n",
    "    \n",
    "The full Multiarmed Bandit Problem is defined by the five features above. Any algorithm that offers you a proposed solution to the Multiarmed Bandit Problem must give you a rule for selecting arms in some sequence. And this rule has to balance out your competing desires to (A) learn about new arms and (B) earn as much reward as possible by pulling on arms you already know are good choices."
   ]
  },
  {
   "cell_type": "markdown",
   "metadata": {},
   "source": [
    "##### Epsilon-Greedy"
   ]
  },
  {
   "cell_type": "markdown",
   "metadata": {},
   "source": [
    "epsilon\n",
    "\n",
    "    - This will be a floating point number that tells us the frequency with which we should explore one of the available arms. If we set epsilon = 0.1, then we’ll explore the available arms on 10% of our pulls.\n",
    "\n",
    "counts\n",
    "\n",
    "    - A vector of integers of length N that tells us how many times we’ve played each of the N arms available to us in the current bandit problem. If there are two arms, Arm 1 and Arm 2, which have both been played twice, then we’ll set counts = [2, 2].\n",
    "\n",
    "values\n",
    "\n",
    "    - A vector of floating point numbers that defines the average amount of reward we’ve gotten when playing each of the N arms available to us. If Arm 1 gave us 1 unit of reward on one play and 0 on another play, while Arm 2 gave us 0 units of reward on both plays, then we’ll set values = [0.5, 0.0]."
   ]
  },
  {
   "cell_type": "code",
   "execution_count": 1,
   "metadata": {},
   "outputs": [],
   "source": [
    "import random\n",
    "import numpy as np\n",
    "import pandas as pd\n",
    "import matplotlib.pyplot as plt\n",
    "\n",
    "from matplotlib import cm\n",
    "\n",
    "# random.seed(1)"
   ]
  },
  {
   "cell_type": "markdown",
   "metadata": {},
   "source": [
    "select_arm\n",
    "\n",
    "    - Every time we have to make a choice about which arm to pull, we want to be able to simply make a call to our favorite algorithm and have it tell us the numeric name of the arm we should pull.\n",
    "\n",
    "update\n",
    "\n",
    "    - After we pull an arm, we get a reward signal back from our system. We want to update our algorithm’s beliefs about the quality of the arm we just chose by providing this reward information. Here, all of the bandit algorithms handle this by providing an update function that takes as arguments \n",
    "    \n",
    "    (1) an algorithm object, \n",
    "    (2) the numeric index of the most recently chosen arm and \n",
    "    (3) the reward received from choosing that arm. The update method will take this information and make the relevant changes to the algorithm’s evaluation of all of the arms."
   ]
  },
  {
   "cell_type": "code",
   "execution_count": 2,
   "metadata": {},
   "outputs": [],
   "source": [
    "# define the epsilon-greedy class\n",
    "\n",
    "class EpsilonGreedy():\n",
    "    \n",
    "    def __init__(self, epsilon, counts, values):\n",
    "        \n",
    "        self.epsilon = epsilon\n",
    "        self.counts = counts\n",
    "        self.values = values\n",
    "        \n",
    "        return\n",
    "    \n",
    "    def initialize(self, n_arms):\n",
    "        \n",
    "        self.counts = np.array([0 for col in range(n_arms)])\n",
    "        self.values = np.array([0.0 for col in range(n_arms)])\n",
    "        \n",
    "        return\n",
    "    \n",
    "    def select_arm(self):\n",
    "        \n",
    "        if random.random() > self.epsilon:\n",
    "            \n",
    "            return np.argmax(self.values)\n",
    "        \n",
    "        else:\n",
    "            \n",
    "            return random.randrange(len(self.values))\n",
    "        \n",
    "    def update(self, chosen_arm, reward):\n",
    "        \n",
    "        self.counts[chosen_arm] = self.counts[chosen_arm] + 1\n",
    "        n = self.counts[chosen_arm]\n",
    "    \n",
    "        value = self.values[chosen_arm]\n",
    "        new_value = ((n - 1) / float(n)) * value + (1 / float(n)) * reward\n",
    "        self.values[chosen_arm] = new_value\n",
    "    \n",
    "        return\n",
    "        "
   ]
  },
  {
   "cell_type": "markdown",
   "metadata": {},
   "source": [
    "But there are weaknesses with this approach as well (epsilon = 0.1). \n",
    "\n",
    "    - The first weakness is that, as you get more certain which of your two logo designs is best, this tendency to explore the worse design a full 5% of the time will become more wasteful. In the jargon of bandit algorithms, you’ll be over-exploring. \n",
    "    \n",
    "    - And there’s another problem with a fixed 10% exploration rule: at the start of your experimentation, you’ll choose options that you don’t know much about far more rarely than you’d like to because you only try new options 10% of the time.\n",
    "\n",
    "So there are many ways that the epsilon-Greedy algorithm could be better."
   ]
  },
  {
   "cell_type": "code",
   "execution_count": 3,
   "metadata": {},
   "outputs": [],
   "source": [
    "# define the class for a bernoulli arm\n",
    "\n",
    "class BernoulliArm():\n",
    "    \n",
    "    def __init__(self, p):\n",
    "        \n",
    "        self.p = p\n",
    "        \n",
    "    def draw(self):\n",
    "        \n",
    "        if random.random() > self.p:\n",
    "            \n",
    "            return 0.0\n",
    "        \n",
    "        else:\n",
    "            \n",
    "            return 1.0\n",
    "        "
   ]
  },
  {
   "cell_type": "code",
   "execution_count": 4,
   "metadata": {},
   "outputs": [],
   "source": [
    "# initialization\n",
    "\n",
    "means = [0.100, 0.098]\n",
    "\n",
    "n_arms = len(means)\n",
    "\n",
    "# random.shuffle(means)\n",
    "\n",
    "arms = list(map(lambda x: BernoulliArm(x), means))\n"
   ]
  },
  {
   "cell_type": "code",
   "execution_count": 5,
   "metadata": {},
   "outputs": [],
   "source": [
    "# define the function to test the algorithm\n",
    "\n",
    "def test_algorithm(algorithm, arms, num_sims, horizon):\n",
    "    \n",
    "    chosen_arms = np.array([[0.0 for j in range(horizon)] for i in range(num_sims)])\n",
    "    \n",
    "    rewards = np.array([[0.0 for j in range(horizon)] for i in range(num_sims)])\n",
    "    \n",
    "    cumulative_rewards = np.array([[0.0 for j in range(horizon)] for i in range(num_sims)])\n",
    "    \n",
    "    sim_nums = np.array([[0.0 for j in range(horizon)] for i in range(num_sims)])\n",
    "    \n",
    "    times = np.array([[0.0 for j in range(horizon)] for i in range(num_sims)])\n",
    "    \n",
    "    for sim in range(num_sims):\n",
    "        \n",
    "        sim = sim + 1\n",
    "        \n",
    "        algorithm.initialize(len(arms))\n",
    "\n",
    "        for t in range(horizon):\n",
    "            \n",
    "            t = t + 1\n",
    "            \n",
    "            sim_nums[sim - 1, t - 1] = sim\n",
    "            times[sim - 1, t - 1] = t\n",
    "            \n",
    "            chosen_arm = algorithm.select_arm()\n",
    "            chosen_arms[sim - 1, t - 1] = chosen_arm\n",
    "            \n",
    "            reward = arms[int(chosen_arms[sim - 1, t - 1])].draw()\n",
    "            rewards[sim - 1, t - 1] = reward\n",
    "            \n",
    "            if t == 1:\n",
    "                cumulative_rewards[sim - 1, t - 1] = reward\n",
    "                \n",
    "            else:\n",
    "                cumulative_rewards[sim - 1, t - 1] = cumulative_rewards[sim - 1, t - 2] + reward\n",
    "                \n",
    "            algorithm.update(chosen_arm, reward)\n",
    "            \n",
    "    return np.array([sim_nums, times, chosen_arms, rewards, cumulative_rewards])"
   ]
  },
  {
   "cell_type": "code",
   "execution_count": 6,
   "metadata": {},
   "outputs": [],
   "source": [
    "# test the algorithm\n",
    "\n",
    "algorithm = EpsilonGreedy(0.3, [], [])\n",
    "\n",
    "algorithm.initialize(n_arms)\n",
    "\n",
    "results = test_algorithm(algorithm, arms, 500, 1000)"
   ]
  },
  {
   "cell_type": "code",
   "execution_count": 7,
   "metadata": {},
   "outputs": [
    {
     "data": {
      "image/png": "[encoded data removed]",
      "text/plain": [
       "<Figure size 1152x576 with 1 Axes>"
      ]
     },
     "metadata": {},
     "output_type": "display_data"
    }
   ],
   "source": [
    "# plot the results\n",
    "\n",
    "plt.style.use('ggplot')\n",
    "\n",
    "plt.figure(figsize = (16, 8))\n",
    "\n",
    "plt.plot(range(1000), np.mean(results[3], axis = 0))\n",
    "\n",
    "plt.scatter(range(1000), np.mean(results[2], axis = 0) > 0.5, c = cm.Set2(np.mean(results[2], axis = 0)))\n",
    "\n",
    "plt.show()"
   ]
  },
  {
   "cell_type": "code",
   "execution_count": null,
   "metadata": {},
   "outputs": [],
   "source": []
  },
  {
   "cell_type": "code",
   "execution_count": null,
   "metadata": {},
   "outputs": [],
   "source": []
  },
  {
   "cell_type": "code",
   "execution_count": null,
   "metadata": {},
   "outputs": [],
   "source": []
  }
 ],
 "metadata": {
  "kernelspec": {
   "display_name": "Python 3",
   "language": "python",
   "name": "python3"
  },
  "language_info": {
   "codemirror_mode": {
    "name": "ipython",
    "version": 3
   },
   "file_extension": ".py",
   "mimetype": "text/x-python",
   "name": "python",
   "nbconvert_exporter": "python",
   "pygments_lexer": "ipython3",
   "version": "3.7.1"
  }
 },
 "nbformat": 4,
 "nbformat_minor": 2
}
